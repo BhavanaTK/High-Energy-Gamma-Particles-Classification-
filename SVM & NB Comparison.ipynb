{
 "cells": [
  {
   "cell_type": "markdown",
   "id": "c2584148",
   "metadata": {},
   "source": [
    "#  High Energy Gamma Particles Classification comparison between Support Vector Machines and Naive Bayesian"
   ]
  },
  {
   "cell_type": "code",
   "execution_count": 1,
   "id": "b282e50c",
   "metadata": {},
   "outputs": [],
   "source": [
    "import pandas as pd"
   ]
  },
  {
   "cell_type": "code",
   "execution_count": 3,
   "id": "9d22b295",
   "metadata": {},
   "outputs": [
    {
     "data": {
      "text/html": [
       "<div>\n",
       "<style scoped>\n",
       "    .dataframe tbody tr th:only-of-type {\n",
       "        vertical-align: middle;\n",
       "    }\n",
       "\n",
       "    .dataframe tbody tr th {\n",
       "        vertical-align: top;\n",
       "    }\n",
       "\n",
       "    .dataframe thead th {\n",
       "        text-align: right;\n",
       "    }\n",
       "</style>\n",
       "<table border=\"1\" class=\"dataframe\">\n",
       "  <thead>\n",
       "    <tr style=\"text-align: right;\">\n",
       "      <th></th>\n",
       "      <th>Unnamed: 0</th>\n",
       "      <th>fLength</th>\n",
       "      <th>fWidth</th>\n",
       "      <th>fSize</th>\n",
       "      <th>fConc</th>\n",
       "      <th>fConc1</th>\n",
       "      <th>fAsym</th>\n",
       "      <th>fM3Long</th>\n",
       "      <th>fM3Trans</th>\n",
       "      <th>fAlpha</th>\n",
       "      <th>fDist</th>\n",
       "      <th>class</th>\n",
       "    </tr>\n",
       "  </thead>\n",
       "  <tbody>\n",
       "    <tr>\n",
       "      <th>0</th>\n",
       "      <td>0</td>\n",
       "      <td>28.7967</td>\n",
       "      <td>16.0021</td>\n",
       "      <td>2.6449</td>\n",
       "      <td>0.3918</td>\n",
       "      <td>0.1982</td>\n",
       "      <td>27.7004</td>\n",
       "      <td>22.0110</td>\n",
       "      <td>-8.2027</td>\n",
       "      <td>40.0920</td>\n",
       "      <td>81.8828</td>\n",
       "      <td>g</td>\n",
       "    </tr>\n",
       "    <tr>\n",
       "      <th>1</th>\n",
       "      <td>1</td>\n",
       "      <td>31.6036</td>\n",
       "      <td>11.7235</td>\n",
       "      <td>2.5185</td>\n",
       "      <td>0.5303</td>\n",
       "      <td>0.3773</td>\n",
       "      <td>26.2722</td>\n",
       "      <td>23.8238</td>\n",
       "      <td>-9.9574</td>\n",
       "      <td>6.3609</td>\n",
       "      <td>205.2610</td>\n",
       "      <td>g</td>\n",
       "    </tr>\n",
       "    <tr>\n",
       "      <th>2</th>\n",
       "      <td>2</td>\n",
       "      <td>162.0520</td>\n",
       "      <td>136.0310</td>\n",
       "      <td>4.0612</td>\n",
       "      <td>0.0374</td>\n",
       "      <td>0.0187</td>\n",
       "      <td>116.7410</td>\n",
       "      <td>-64.8580</td>\n",
       "      <td>-45.2160</td>\n",
       "      <td>76.9600</td>\n",
       "      <td>256.7880</td>\n",
       "      <td>g</td>\n",
       "    </tr>\n",
       "    <tr>\n",
       "      <th>3</th>\n",
       "      <td>3</td>\n",
       "      <td>23.8172</td>\n",
       "      <td>9.5728</td>\n",
       "      <td>2.3385</td>\n",
       "      <td>0.6147</td>\n",
       "      <td>0.3922</td>\n",
       "      <td>27.2107</td>\n",
       "      <td>-6.4633</td>\n",
       "      <td>-7.1513</td>\n",
       "      <td>10.4490</td>\n",
       "      <td>116.7370</td>\n",
       "      <td>g</td>\n",
       "    </tr>\n",
       "    <tr>\n",
       "      <th>4</th>\n",
       "      <td>4</td>\n",
       "      <td>75.1362</td>\n",
       "      <td>30.9205</td>\n",
       "      <td>3.1611</td>\n",
       "      <td>0.3168</td>\n",
       "      <td>0.1832</td>\n",
       "      <td>-5.5277</td>\n",
       "      <td>28.5525</td>\n",
       "      <td>21.8393</td>\n",
       "      <td>4.6480</td>\n",
       "      <td>356.4620</td>\n",
       "      <td>g</td>\n",
       "    </tr>\n",
       "  </tbody>\n",
       "</table>\n",
       "</div>"
      ],
      "text/plain": [
       "   Unnamed: 0   fLength    fWidth   fSize   fConc  fConc1     fAsym  fM3Long  \\\n",
       "0           0   28.7967   16.0021  2.6449  0.3918  0.1982   27.7004  22.0110   \n",
       "1           1   31.6036   11.7235  2.5185  0.5303  0.3773   26.2722  23.8238   \n",
       "2           2  162.0520  136.0310  4.0612  0.0374  0.0187  116.7410 -64.8580   \n",
       "3           3   23.8172    9.5728  2.3385  0.6147  0.3922   27.2107  -6.4633   \n",
       "4           4   75.1362   30.9205  3.1611  0.3168  0.1832   -5.5277  28.5525   \n",
       "\n",
       "   fM3Trans   fAlpha     fDist class  \n",
       "0   -8.2027  40.0920   81.8828     g  \n",
       "1   -9.9574   6.3609  205.2610     g  \n",
       "2  -45.2160  76.9600  256.7880     g  \n",
       "3   -7.1513  10.4490  116.7370     g  \n",
       "4   21.8393   4.6480  356.4620     g  "
      ]
     },
     "execution_count": 3,
     "metadata": {},
     "output_type": "execute_result"
    }
   ],
   "source": [
    "df = pd.read_csv(r\"C:\\Users\\user\\Downloads\\telescope_data.csv\")\n",
    "df.head()"
   ]
  },
  {
   "cell_type": "code",
   "execution_count": 4,
   "id": "6cf7f65b",
   "metadata": {},
   "outputs": [
    {
     "data": {
      "text/html": [
       "<div>\n",
       "<style scoped>\n",
       "    .dataframe tbody tr th:only-of-type {\n",
       "        vertical-align: middle;\n",
       "    }\n",
       "\n",
       "    .dataframe tbody tr th {\n",
       "        vertical-align: top;\n",
       "    }\n",
       "\n",
       "    .dataframe thead th {\n",
       "        text-align: right;\n",
       "    }\n",
       "</style>\n",
       "<table border=\"1\" class=\"dataframe\">\n",
       "  <thead>\n",
       "    <tr style=\"text-align: right;\">\n",
       "      <th></th>\n",
       "      <th>Unnamed: 0</th>\n",
       "      <th>fLength</th>\n",
       "      <th>fWidth</th>\n",
       "      <th>fSize</th>\n",
       "      <th>fConc</th>\n",
       "      <th>fConc1</th>\n",
       "      <th>fAsym</th>\n",
       "      <th>fM3Long</th>\n",
       "      <th>fM3Trans</th>\n",
       "      <th>fAlpha</th>\n",
       "      <th>fDist</th>\n",
       "      <th>class</th>\n",
       "    </tr>\n",
       "  </thead>\n",
       "  <tbody>\n",
       "    <tr>\n",
       "      <th>19015</th>\n",
       "      <td>19015</td>\n",
       "      <td>21.3846</td>\n",
       "      <td>10.9170</td>\n",
       "      <td>2.6161</td>\n",
       "      <td>0.5857</td>\n",
       "      <td>0.3934</td>\n",
       "      <td>15.2618</td>\n",
       "      <td>11.5245</td>\n",
       "      <td>2.8766</td>\n",
       "      <td>2.4229</td>\n",
       "      <td>106.8258</td>\n",
       "      <td>h</td>\n",
       "    </tr>\n",
       "    <tr>\n",
       "      <th>19016</th>\n",
       "      <td>19016</td>\n",
       "      <td>28.9452</td>\n",
       "      <td>6.7020</td>\n",
       "      <td>2.2672</td>\n",
       "      <td>0.5351</td>\n",
       "      <td>0.2784</td>\n",
       "      <td>37.0816</td>\n",
       "      <td>13.1853</td>\n",
       "      <td>-2.9632</td>\n",
       "      <td>86.7975</td>\n",
       "      <td>247.4560</td>\n",
       "      <td>h</td>\n",
       "    </tr>\n",
       "    <tr>\n",
       "      <th>19017</th>\n",
       "      <td>19017</td>\n",
       "      <td>75.4455</td>\n",
       "      <td>47.5305</td>\n",
       "      <td>3.4483</td>\n",
       "      <td>0.1417</td>\n",
       "      <td>0.0549</td>\n",
       "      <td>-9.3561</td>\n",
       "      <td>41.0562</td>\n",
       "      <td>-9.4662</td>\n",
       "      <td>30.2987</td>\n",
       "      <td>256.5166</td>\n",
       "      <td>h</td>\n",
       "    </tr>\n",
       "    <tr>\n",
       "      <th>19018</th>\n",
       "      <td>19018</td>\n",
       "      <td>120.5135</td>\n",
       "      <td>76.9018</td>\n",
       "      <td>3.9939</td>\n",
       "      <td>0.0944</td>\n",
       "      <td>0.0683</td>\n",
       "      <td>5.8043</td>\n",
       "      <td>-93.5224</td>\n",
       "      <td>-63.8389</td>\n",
       "      <td>84.6874</td>\n",
       "      <td>408.3166</td>\n",
       "      <td>h</td>\n",
       "    </tr>\n",
       "    <tr>\n",
       "      <th>19019</th>\n",
       "      <td>19019</td>\n",
       "      <td>187.1814</td>\n",
       "      <td>53.0014</td>\n",
       "      <td>3.2093</td>\n",
       "      <td>0.2876</td>\n",
       "      <td>0.1539</td>\n",
       "      <td>-167.3125</td>\n",
       "      <td>-168.4558</td>\n",
       "      <td>31.4755</td>\n",
       "      <td>52.7310</td>\n",
       "      <td>272.3174</td>\n",
       "      <td>h</td>\n",
       "    </tr>\n",
       "  </tbody>\n",
       "</table>\n",
       "</div>"
      ],
      "text/plain": [
       "       Unnamed: 0   fLength   fWidth   fSize   fConc  fConc1     fAsym  \\\n",
       "19015       19015   21.3846  10.9170  2.6161  0.5857  0.3934   15.2618   \n",
       "19016       19016   28.9452   6.7020  2.2672  0.5351  0.2784   37.0816   \n",
       "19017       19017   75.4455  47.5305  3.4483  0.1417  0.0549   -9.3561   \n",
       "19018       19018  120.5135  76.9018  3.9939  0.0944  0.0683    5.8043   \n",
       "19019       19019  187.1814  53.0014  3.2093  0.2876  0.1539 -167.3125   \n",
       "\n",
       "        fM3Long  fM3Trans   fAlpha     fDist class  \n",
       "19015   11.5245    2.8766   2.4229  106.8258     h  \n",
       "19016   13.1853   -2.9632  86.7975  247.4560     h  \n",
       "19017   41.0562   -9.4662  30.2987  256.5166     h  \n",
       "19018  -93.5224  -63.8389  84.6874  408.3166     h  \n",
       "19019 -168.4558   31.4755  52.7310  272.3174     h  "
      ]
     },
     "execution_count": 4,
     "metadata": {},
     "output_type": "execute_result"
    }
   ],
   "source": [
    "df.tail()"
   ]
  },
  {
   "cell_type": "code",
   "execution_count": 5,
   "id": "2994733e",
   "metadata": {},
   "outputs": [
    {
     "data": {
      "text/html": [
       "<div>\n",
       "<style scoped>\n",
       "    .dataframe tbody tr th:only-of-type {\n",
       "        vertical-align: middle;\n",
       "    }\n",
       "\n",
       "    .dataframe tbody tr th {\n",
       "        vertical-align: top;\n",
       "    }\n",
       "\n",
       "    .dataframe thead th {\n",
       "        text-align: right;\n",
       "    }\n",
       "</style>\n",
       "<table border=\"1\" class=\"dataframe\">\n",
       "  <thead>\n",
       "    <tr style=\"text-align: right;\">\n",
       "      <th></th>\n",
       "      <th>Unnamed: 0</th>\n",
       "      <th>fLength</th>\n",
       "      <th>fWidth</th>\n",
       "      <th>fSize</th>\n",
       "      <th>fConc</th>\n",
       "      <th>fConc1</th>\n",
       "      <th>fAsym</th>\n",
       "      <th>fM3Long</th>\n",
       "      <th>fM3Trans</th>\n",
       "      <th>fAlpha</th>\n",
       "      <th>fDist</th>\n",
       "    </tr>\n",
       "  </thead>\n",
       "  <tbody>\n",
       "    <tr>\n",
       "      <th>count</th>\n",
       "      <td>19020.000000</td>\n",
       "      <td>19020.000000</td>\n",
       "      <td>19020.000000</td>\n",
       "      <td>19020.000000</td>\n",
       "      <td>19020.000000</td>\n",
       "      <td>19020.000000</td>\n",
       "      <td>19020.000000</td>\n",
       "      <td>19020.000000</td>\n",
       "      <td>19020.000000</td>\n",
       "      <td>19020.000000</td>\n",
       "      <td>19020.000000</td>\n",
       "    </tr>\n",
       "    <tr>\n",
       "      <th>mean</th>\n",
       "      <td>9509.500000</td>\n",
       "      <td>53.250154</td>\n",
       "      <td>22.180966</td>\n",
       "      <td>2.825017</td>\n",
       "      <td>0.380327</td>\n",
       "      <td>0.214657</td>\n",
       "      <td>-4.331745</td>\n",
       "      <td>10.545545</td>\n",
       "      <td>0.249726</td>\n",
       "      <td>27.645707</td>\n",
       "      <td>193.818026</td>\n",
       "    </tr>\n",
       "    <tr>\n",
       "      <th>std</th>\n",
       "      <td>5490.745396</td>\n",
       "      <td>42.364855</td>\n",
       "      <td>18.346056</td>\n",
       "      <td>0.472599</td>\n",
       "      <td>0.182813</td>\n",
       "      <td>0.110511</td>\n",
       "      <td>59.206062</td>\n",
       "      <td>51.000118</td>\n",
       "      <td>20.827439</td>\n",
       "      <td>26.103621</td>\n",
       "      <td>74.731787</td>\n",
       "    </tr>\n",
       "    <tr>\n",
       "      <th>min</th>\n",
       "      <td>0.000000</td>\n",
       "      <td>4.283500</td>\n",
       "      <td>0.000000</td>\n",
       "      <td>1.941300</td>\n",
       "      <td>0.013100</td>\n",
       "      <td>0.000300</td>\n",
       "      <td>-457.916100</td>\n",
       "      <td>-331.780000</td>\n",
       "      <td>-205.894700</td>\n",
       "      <td>0.000000</td>\n",
       "      <td>1.282600</td>\n",
       "    </tr>\n",
       "    <tr>\n",
       "      <th>25%</th>\n",
       "      <td>4754.750000</td>\n",
       "      <td>24.336000</td>\n",
       "      <td>11.863800</td>\n",
       "      <td>2.477100</td>\n",
       "      <td>0.235800</td>\n",
       "      <td>0.128475</td>\n",
       "      <td>-20.586550</td>\n",
       "      <td>-12.842775</td>\n",
       "      <td>-10.849375</td>\n",
       "      <td>5.547925</td>\n",
       "      <td>142.492250</td>\n",
       "    </tr>\n",
       "    <tr>\n",
       "      <th>50%</th>\n",
       "      <td>9509.500000</td>\n",
       "      <td>37.147700</td>\n",
       "      <td>17.139900</td>\n",
       "      <td>2.739600</td>\n",
       "      <td>0.354150</td>\n",
       "      <td>0.196500</td>\n",
       "      <td>4.013050</td>\n",
       "      <td>15.314100</td>\n",
       "      <td>0.666200</td>\n",
       "      <td>17.679500</td>\n",
       "      <td>191.851450</td>\n",
       "    </tr>\n",
       "    <tr>\n",
       "      <th>75%</th>\n",
       "      <td>14264.250000</td>\n",
       "      <td>70.122175</td>\n",
       "      <td>24.739475</td>\n",
       "      <td>3.101600</td>\n",
       "      <td>0.503700</td>\n",
       "      <td>0.285225</td>\n",
       "      <td>24.063700</td>\n",
       "      <td>35.837800</td>\n",
       "      <td>10.946425</td>\n",
       "      <td>45.883550</td>\n",
       "      <td>240.563825</td>\n",
       "    </tr>\n",
       "    <tr>\n",
       "      <th>max</th>\n",
       "      <td>19019.000000</td>\n",
       "      <td>334.177000</td>\n",
       "      <td>256.382000</td>\n",
       "      <td>5.323300</td>\n",
       "      <td>0.893000</td>\n",
       "      <td>0.675200</td>\n",
       "      <td>575.240700</td>\n",
       "      <td>238.321000</td>\n",
       "      <td>179.851000</td>\n",
       "      <td>90.000000</td>\n",
       "      <td>495.561000</td>\n",
       "    </tr>\n",
       "  </tbody>\n",
       "</table>\n",
       "</div>"
      ],
      "text/plain": [
       "         Unnamed: 0       fLength        fWidth         fSize         fConc  \\\n",
       "count  19020.000000  19020.000000  19020.000000  19020.000000  19020.000000   \n",
       "mean    9509.500000     53.250154     22.180966      2.825017      0.380327   \n",
       "std     5490.745396     42.364855     18.346056      0.472599      0.182813   \n",
       "min        0.000000      4.283500      0.000000      1.941300      0.013100   \n",
       "25%     4754.750000     24.336000     11.863800      2.477100      0.235800   \n",
       "50%     9509.500000     37.147700     17.139900      2.739600      0.354150   \n",
       "75%    14264.250000     70.122175     24.739475      3.101600      0.503700   \n",
       "max    19019.000000    334.177000    256.382000      5.323300      0.893000   \n",
       "\n",
       "             fConc1         fAsym       fM3Long      fM3Trans        fAlpha  \\\n",
       "count  19020.000000  19020.000000  19020.000000  19020.000000  19020.000000   \n",
       "mean       0.214657     -4.331745     10.545545      0.249726     27.645707   \n",
       "std        0.110511     59.206062     51.000118     20.827439     26.103621   \n",
       "min        0.000300   -457.916100   -331.780000   -205.894700      0.000000   \n",
       "25%        0.128475    -20.586550    -12.842775    -10.849375      5.547925   \n",
       "50%        0.196500      4.013050     15.314100      0.666200     17.679500   \n",
       "75%        0.285225     24.063700     35.837800     10.946425     45.883550   \n",
       "max        0.675200    575.240700    238.321000    179.851000     90.000000   \n",
       "\n",
       "              fDist  \n",
       "count  19020.000000  \n",
       "mean     193.818026  \n",
       "std       74.731787  \n",
       "min        1.282600  \n",
       "25%      142.492250  \n",
       "50%      191.851450  \n",
       "75%      240.563825  \n",
       "max      495.561000  "
      ]
     },
     "execution_count": 5,
     "metadata": {},
     "output_type": "execute_result"
    }
   ],
   "source": [
    "df.describe()"
   ]
  },
  {
   "cell_type": "code",
   "execution_count": 6,
   "id": "769a13ac",
   "metadata": {},
   "outputs": [
    {
     "data": {
      "text/plain": [
       "(19020, 12)"
      ]
     },
     "execution_count": 6,
     "metadata": {},
     "output_type": "execute_result"
    }
   ],
   "source": [
    "df.shape"
   ]
  },
  {
   "cell_type": "code",
   "execution_count": 8,
   "id": "f3c8370e",
   "metadata": {},
   "outputs": [
    {
     "data": {
      "text/plain": [
       "Unnamed: 0      int64\n",
       "fLength       float64\n",
       "fWidth        float64\n",
       "fSize         float64\n",
       "fConc         float64\n",
       "fConc1        float64\n",
       "fAsym         float64\n",
       "fM3Long       float64\n",
       "fM3Trans      float64\n",
       "fAlpha        float64\n",
       "fDist         float64\n",
       "class          object\n",
       "dtype: object"
      ]
     },
     "execution_count": 8,
     "metadata": {},
     "output_type": "execute_result"
    }
   ],
   "source": [
    "df.dtypes"
   ]
  },
  {
   "cell_type": "code",
   "execution_count": 9,
   "id": "a3e28af6",
   "metadata": {},
   "outputs": [
    {
     "data": {
      "text/plain": [
       "Unnamed: 0    0\n",
       "fLength       0\n",
       "fWidth        0\n",
       "fSize         0\n",
       "fConc         0\n",
       "fConc1        0\n",
       "fAsym         0\n",
       "fM3Long       0\n",
       "fM3Trans      0\n",
       "fAlpha        0\n",
       "fDist         0\n",
       "class         0\n",
       "dtype: int64"
      ]
     },
     "execution_count": 9,
     "metadata": {},
     "output_type": "execute_result"
    }
   ],
   "source": [
    "df.isnull().sum()"
   ]
  },
  {
   "cell_type": "markdown",
   "id": "59037208",
   "metadata": {},
   "source": [
    "Convert Categories into Numerical "
   ]
  },
  {
   "cell_type": "code",
   "execution_count": 10,
   "id": "0c68a7f5",
   "metadata": {},
   "outputs": [
    {
     "name": "stderr",
     "output_type": "stream",
     "text": [
      "C:\\Users\\user\\anaconda3\\lib\\site-packages\\scipy\\__init__.py:155: UserWarning: A NumPy version >=1.18.5 and <1.25.0 is required for this version of SciPy (detected version 1.26.4\n",
      "  warnings.warn(f\"A NumPy version >={np_minversion} and <{np_maxversion}\"\n"
     ]
    }
   ],
   "source": [
    "from sklearn.preprocessing import LabelEncoder\n",
    "label_encoder = LabelEncoder()"
   ]
  },
  {
   "cell_type": "code",
   "execution_count": 11,
   "id": "51852dc0",
   "metadata": {},
   "outputs": [],
   "source": [
    "df[\"class\"] = label_encoder.fit_transform(df[\"class\"])"
   ]
  },
  {
   "cell_type": "code",
   "execution_count": 12,
   "id": "e967dfd5",
   "metadata": {},
   "outputs": [
    {
     "data": {
      "text/plain": [
       "Unnamed: 0      int64\n",
       "fLength       float64\n",
       "fWidth        float64\n",
       "fSize         float64\n",
       "fConc         float64\n",
       "fConc1        float64\n",
       "fAsym         float64\n",
       "fM3Long       float64\n",
       "fM3Trans      float64\n",
       "fAlpha        float64\n",
       "fDist         float64\n",
       "class           int32\n",
       "dtype: object"
      ]
     },
     "execution_count": 12,
     "metadata": {},
     "output_type": "execute_result"
    }
   ],
   "source": [
    "df.dtypes"
   ]
  },
  {
   "cell_type": "code",
   "execution_count": 14,
   "id": "5618b528",
   "metadata": {},
   "outputs": [
    {
     "data": {
      "text/html": [
       "<div>\n",
       "<style scoped>\n",
       "    .dataframe tbody tr th:only-of-type {\n",
       "        vertical-align: middle;\n",
       "    }\n",
       "\n",
       "    .dataframe tbody tr th {\n",
       "        vertical-align: top;\n",
       "    }\n",
       "\n",
       "    .dataframe thead th {\n",
       "        text-align: right;\n",
       "    }\n",
       "</style>\n",
       "<table border=\"1\" class=\"dataframe\">\n",
       "  <thead>\n",
       "    <tr style=\"text-align: right;\">\n",
       "      <th></th>\n",
       "      <th>fLength</th>\n",
       "      <th>fWidth</th>\n",
       "      <th>fSize</th>\n",
       "      <th>fConc</th>\n",
       "      <th>fConc1</th>\n",
       "      <th>fAsym</th>\n",
       "      <th>fM3Long</th>\n",
       "      <th>fM3Trans</th>\n",
       "      <th>fAlpha</th>\n",
       "      <th>fDist</th>\n",
       "      <th>class</th>\n",
       "    </tr>\n",
       "  </thead>\n",
       "  <tbody>\n",
       "    <tr>\n",
       "      <th>0</th>\n",
       "      <td>28.7967</td>\n",
       "      <td>16.0021</td>\n",
       "      <td>2.6449</td>\n",
       "      <td>0.3918</td>\n",
       "      <td>0.1982</td>\n",
       "      <td>27.7004</td>\n",
       "      <td>22.0110</td>\n",
       "      <td>-8.2027</td>\n",
       "      <td>40.0920</td>\n",
       "      <td>81.8828</td>\n",
       "      <td>0</td>\n",
       "    </tr>\n",
       "    <tr>\n",
       "      <th>1</th>\n",
       "      <td>31.6036</td>\n",
       "      <td>11.7235</td>\n",
       "      <td>2.5185</td>\n",
       "      <td>0.5303</td>\n",
       "      <td>0.3773</td>\n",
       "      <td>26.2722</td>\n",
       "      <td>23.8238</td>\n",
       "      <td>-9.9574</td>\n",
       "      <td>6.3609</td>\n",
       "      <td>205.2610</td>\n",
       "      <td>0</td>\n",
       "    </tr>\n",
       "    <tr>\n",
       "      <th>2</th>\n",
       "      <td>162.0520</td>\n",
       "      <td>136.0310</td>\n",
       "      <td>4.0612</td>\n",
       "      <td>0.0374</td>\n",
       "      <td>0.0187</td>\n",
       "      <td>116.7410</td>\n",
       "      <td>-64.8580</td>\n",
       "      <td>-45.2160</td>\n",
       "      <td>76.9600</td>\n",
       "      <td>256.7880</td>\n",
       "      <td>0</td>\n",
       "    </tr>\n",
       "    <tr>\n",
       "      <th>3</th>\n",
       "      <td>23.8172</td>\n",
       "      <td>9.5728</td>\n",
       "      <td>2.3385</td>\n",
       "      <td>0.6147</td>\n",
       "      <td>0.3922</td>\n",
       "      <td>27.2107</td>\n",
       "      <td>-6.4633</td>\n",
       "      <td>-7.1513</td>\n",
       "      <td>10.4490</td>\n",
       "      <td>116.7370</td>\n",
       "      <td>0</td>\n",
       "    </tr>\n",
       "    <tr>\n",
       "      <th>4</th>\n",
       "      <td>75.1362</td>\n",
       "      <td>30.9205</td>\n",
       "      <td>3.1611</td>\n",
       "      <td>0.3168</td>\n",
       "      <td>0.1832</td>\n",
       "      <td>-5.5277</td>\n",
       "      <td>28.5525</td>\n",
       "      <td>21.8393</td>\n",
       "      <td>4.6480</td>\n",
       "      <td>356.4620</td>\n",
       "      <td>0</td>\n",
       "    </tr>\n",
       "    <tr>\n",
       "      <th>...</th>\n",
       "      <td>...</td>\n",
       "      <td>...</td>\n",
       "      <td>...</td>\n",
       "      <td>...</td>\n",
       "      <td>...</td>\n",
       "      <td>...</td>\n",
       "      <td>...</td>\n",
       "      <td>...</td>\n",
       "      <td>...</td>\n",
       "      <td>...</td>\n",
       "      <td>...</td>\n",
       "    </tr>\n",
       "    <tr>\n",
       "      <th>19015</th>\n",
       "      <td>21.3846</td>\n",
       "      <td>10.9170</td>\n",
       "      <td>2.6161</td>\n",
       "      <td>0.5857</td>\n",
       "      <td>0.3934</td>\n",
       "      <td>15.2618</td>\n",
       "      <td>11.5245</td>\n",
       "      <td>2.8766</td>\n",
       "      <td>2.4229</td>\n",
       "      <td>106.8258</td>\n",
       "      <td>1</td>\n",
       "    </tr>\n",
       "    <tr>\n",
       "      <th>19016</th>\n",
       "      <td>28.9452</td>\n",
       "      <td>6.7020</td>\n",
       "      <td>2.2672</td>\n",
       "      <td>0.5351</td>\n",
       "      <td>0.2784</td>\n",
       "      <td>37.0816</td>\n",
       "      <td>13.1853</td>\n",
       "      <td>-2.9632</td>\n",
       "      <td>86.7975</td>\n",
       "      <td>247.4560</td>\n",
       "      <td>1</td>\n",
       "    </tr>\n",
       "    <tr>\n",
       "      <th>19017</th>\n",
       "      <td>75.4455</td>\n",
       "      <td>47.5305</td>\n",
       "      <td>3.4483</td>\n",
       "      <td>0.1417</td>\n",
       "      <td>0.0549</td>\n",
       "      <td>-9.3561</td>\n",
       "      <td>41.0562</td>\n",
       "      <td>-9.4662</td>\n",
       "      <td>30.2987</td>\n",
       "      <td>256.5166</td>\n",
       "      <td>1</td>\n",
       "    </tr>\n",
       "    <tr>\n",
       "      <th>19018</th>\n",
       "      <td>120.5135</td>\n",
       "      <td>76.9018</td>\n",
       "      <td>3.9939</td>\n",
       "      <td>0.0944</td>\n",
       "      <td>0.0683</td>\n",
       "      <td>5.8043</td>\n",
       "      <td>-93.5224</td>\n",
       "      <td>-63.8389</td>\n",
       "      <td>84.6874</td>\n",
       "      <td>408.3166</td>\n",
       "      <td>1</td>\n",
       "    </tr>\n",
       "    <tr>\n",
       "      <th>19019</th>\n",
       "      <td>187.1814</td>\n",
       "      <td>53.0014</td>\n",
       "      <td>3.2093</td>\n",
       "      <td>0.2876</td>\n",
       "      <td>0.1539</td>\n",
       "      <td>-167.3125</td>\n",
       "      <td>-168.4558</td>\n",
       "      <td>31.4755</td>\n",
       "      <td>52.7310</td>\n",
       "      <td>272.3174</td>\n",
       "      <td>1</td>\n",
       "    </tr>\n",
       "  </tbody>\n",
       "</table>\n",
       "<p>19020 rows × 11 columns</p>\n",
       "</div>"
      ],
      "text/plain": [
       "        fLength    fWidth   fSize   fConc  fConc1     fAsym   fM3Long  \\\n",
       "0       28.7967   16.0021  2.6449  0.3918  0.1982   27.7004   22.0110   \n",
       "1       31.6036   11.7235  2.5185  0.5303  0.3773   26.2722   23.8238   \n",
       "2      162.0520  136.0310  4.0612  0.0374  0.0187  116.7410  -64.8580   \n",
       "3       23.8172    9.5728  2.3385  0.6147  0.3922   27.2107   -6.4633   \n",
       "4       75.1362   30.9205  3.1611  0.3168  0.1832   -5.5277   28.5525   \n",
       "...         ...       ...     ...     ...     ...       ...       ...   \n",
       "19015   21.3846   10.9170  2.6161  0.5857  0.3934   15.2618   11.5245   \n",
       "19016   28.9452    6.7020  2.2672  0.5351  0.2784   37.0816   13.1853   \n",
       "19017   75.4455   47.5305  3.4483  0.1417  0.0549   -9.3561   41.0562   \n",
       "19018  120.5135   76.9018  3.9939  0.0944  0.0683    5.8043  -93.5224   \n",
       "19019  187.1814   53.0014  3.2093  0.2876  0.1539 -167.3125 -168.4558   \n",
       "\n",
       "       fM3Trans   fAlpha     fDist  class  \n",
       "0       -8.2027  40.0920   81.8828      0  \n",
       "1       -9.9574   6.3609  205.2610      0  \n",
       "2      -45.2160  76.9600  256.7880      0  \n",
       "3       -7.1513  10.4490  116.7370      0  \n",
       "4       21.8393   4.6480  356.4620      0  \n",
       "...         ...      ...       ...    ...  \n",
       "19015    2.8766   2.4229  106.8258      1  \n",
       "19016   -2.9632  86.7975  247.4560      1  \n",
       "19017   -9.4662  30.2987  256.5166      1  \n",
       "19018  -63.8389  84.6874  408.3166      1  \n",
       "19019   31.4755  52.7310  272.3174      1  \n",
       "\n",
       "[19020 rows x 11 columns]"
      ]
     },
     "execution_count": 14,
     "metadata": {},
     "output_type": "execute_result"
    }
   ],
   "source": [
    "df.drop([\"Unnamed: 0\"],axis=1)"
   ]
  },
  {
   "cell_type": "markdown",
   "id": "c4094b24",
   "metadata": {},
   "source": [
    "Define X and Y"
   ]
  },
  {
   "cell_type": "code",
   "execution_count": 15,
   "id": "a0cfa75b",
   "metadata": {},
   "outputs": [],
   "source": [
    "X = df.drop([\"class\"],axis=1)\n",
    "Y = df[\"class\"]"
   ]
  },
  {
   "cell_type": "markdown",
   "id": "09312fa7",
   "metadata": {},
   "source": [
    "Train,Test,Split"
   ]
  },
  {
   "cell_type": "code",
   "execution_count": 17,
   "id": "649df726",
   "metadata": {},
   "outputs": [],
   "source": [
    "from sklearn.model_selection import train_test_split \n",
    "\n",
    "x_train,x_test,y_train,y_test = train_test_split(X,Y,test_size=.25,random_state=0)"
   ]
  },
  {
   "cell_type": "code",
   "execution_count": 18,
   "id": "e6b48ad2",
   "metadata": {},
   "outputs": [
    {
     "data": {
      "text/html": [
       "<div>\n",
       "<style scoped>\n",
       "    .dataframe tbody tr th:only-of-type {\n",
       "        vertical-align: middle;\n",
       "    }\n",
       "\n",
       "    .dataframe tbody tr th {\n",
       "        vertical-align: top;\n",
       "    }\n",
       "\n",
       "    .dataframe thead th {\n",
       "        text-align: right;\n",
       "    }\n",
       "</style>\n",
       "<table border=\"1\" class=\"dataframe\">\n",
       "  <thead>\n",
       "    <tr style=\"text-align: right;\">\n",
       "      <th></th>\n",
       "      <th>Unnamed: 0</th>\n",
       "      <th>fLength</th>\n",
       "      <th>fWidth</th>\n",
       "      <th>fSize</th>\n",
       "      <th>fConc</th>\n",
       "      <th>fConc1</th>\n",
       "      <th>fAsym</th>\n",
       "      <th>fM3Long</th>\n",
       "      <th>fM3Trans</th>\n",
       "      <th>fAlpha</th>\n",
       "      <th>fDist</th>\n",
       "    </tr>\n",
       "  </thead>\n",
       "  <tbody>\n",
       "    <tr>\n",
       "      <th>9168</th>\n",
       "      <td>9168</td>\n",
       "      <td>25.9857</td>\n",
       "      <td>18.4585</td>\n",
       "      <td>2.5231</td>\n",
       "      <td>0.3538</td>\n",
       "      <td>0.1814</td>\n",
       "      <td>-25.4800</td>\n",
       "      <td>-6.2044</td>\n",
       "      <td>15.2170</td>\n",
       "      <td>56.1948</td>\n",
       "      <td>190.3300</td>\n",
       "    </tr>\n",
       "    <tr>\n",
       "      <th>8383</th>\n",
       "      <td>8383</td>\n",
       "      <td>37.5265</td>\n",
       "      <td>21.7254</td>\n",
       "      <td>3.0988</td>\n",
       "      <td>0.2087</td>\n",
       "      <td>0.1087</td>\n",
       "      <td>37.1436</td>\n",
       "      <td>8.3872</td>\n",
       "      <td>8.8451</td>\n",
       "      <td>7.3742</td>\n",
       "      <td>141.9140</td>\n",
       "    </tr>\n",
       "    <tr>\n",
       "      <th>3980</th>\n",
       "      <td>3980</td>\n",
       "      <td>58.8047</td>\n",
       "      <td>33.6055</td>\n",
       "      <td>3.5673</td>\n",
       "      <td>0.1798</td>\n",
       "      <td>0.0955</td>\n",
       "      <td>45.2378</td>\n",
       "      <td>56.4516</td>\n",
       "      <td>26.5973</td>\n",
       "      <td>4.6870</td>\n",
       "      <td>134.6540</td>\n",
       "    </tr>\n",
       "    <tr>\n",
       "      <th>8011</th>\n",
       "      <td>8011</td>\n",
       "      <td>81.8663</td>\n",
       "      <td>22.5846</td>\n",
       "      <td>3.0037</td>\n",
       "      <td>0.2062</td>\n",
       "      <td>0.1076</td>\n",
       "      <td>-98.9128</td>\n",
       "      <td>56.3823</td>\n",
       "      <td>15.6502</td>\n",
       "      <td>4.4916</td>\n",
       "      <td>242.7150</td>\n",
       "    </tr>\n",
       "    <tr>\n",
       "      <th>9018</th>\n",
       "      <td>9018</td>\n",
       "      <td>57.4159</td>\n",
       "      <td>17.4763</td>\n",
       "      <td>2.8344</td>\n",
       "      <td>0.2738</td>\n",
       "      <td>0.1428</td>\n",
       "      <td>22.4771</td>\n",
       "      <td>60.2797</td>\n",
       "      <td>12.2177</td>\n",
       "      <td>14.6429</td>\n",
       "      <td>202.6650</td>\n",
       "    </tr>\n",
       "    <tr>\n",
       "      <th>...</th>\n",
       "      <td>...</td>\n",
       "      <td>...</td>\n",
       "      <td>...</td>\n",
       "      <td>...</td>\n",
       "      <td>...</td>\n",
       "      <td>...</td>\n",
       "      <td>...</td>\n",
       "      <td>...</td>\n",
       "      <td>...</td>\n",
       "      <td>...</td>\n",
       "      <td>...</td>\n",
       "    </tr>\n",
       "    <tr>\n",
       "      <th>9225</th>\n",
       "      <td>9225</td>\n",
       "      <td>34.7527</td>\n",
       "      <td>16.3799</td>\n",
       "      <td>2.6212</td>\n",
       "      <td>0.2703</td>\n",
       "      <td>0.1376</td>\n",
       "      <td>21.9455</td>\n",
       "      <td>23.6607</td>\n",
       "      <td>7.2786</td>\n",
       "      <td>16.5306</td>\n",
       "      <td>158.1200</td>\n",
       "    </tr>\n",
       "    <tr>\n",
       "      <th>13123</th>\n",
       "      <td>13123</td>\n",
       "      <td>40.7440</td>\n",
       "      <td>16.0635</td>\n",
       "      <td>2.8145</td>\n",
       "      <td>0.3108</td>\n",
       "      <td>0.1668</td>\n",
       "      <td>15.8622</td>\n",
       "      <td>36.5069</td>\n",
       "      <td>-6.2138</td>\n",
       "      <td>13.3971</td>\n",
       "      <td>284.7751</td>\n",
       "    </tr>\n",
       "    <tr>\n",
       "      <th>9845</th>\n",
       "      <td>9845</td>\n",
       "      <td>35.8286</td>\n",
       "      <td>16.8952</td>\n",
       "      <td>2.8802</td>\n",
       "      <td>0.3070</td>\n",
       "      <td>0.1746</td>\n",
       "      <td>38.7674</td>\n",
       "      <td>17.2509</td>\n",
       "      <td>11.3048</td>\n",
       "      <td>0.4720</td>\n",
       "      <td>234.8680</td>\n",
       "    </tr>\n",
       "    <tr>\n",
       "      <th>10799</th>\n",
       "      <td>10799</td>\n",
       "      <td>20.0986</td>\n",
       "      <td>12.8671</td>\n",
       "      <td>2.4057</td>\n",
       "      <td>0.4558</td>\n",
       "      <td>0.2417</td>\n",
       "      <td>11.5039</td>\n",
       "      <td>9.7434</td>\n",
       "      <td>7.8750</td>\n",
       "      <td>21.6750</td>\n",
       "      <td>212.0980</td>\n",
       "    </tr>\n",
       "    <tr>\n",
       "      <th>2732</th>\n",
       "      <td>2732</td>\n",
       "      <td>27.2726</td>\n",
       "      <td>12.6129</td>\n",
       "      <td>2.7288</td>\n",
       "      <td>0.3978</td>\n",
       "      <td>0.2512</td>\n",
       "      <td>-10.4679</td>\n",
       "      <td>-17.5545</td>\n",
       "      <td>-9.9008</td>\n",
       "      <td>3.7890</td>\n",
       "      <td>185.4310</td>\n",
       "    </tr>\n",
       "  </tbody>\n",
       "</table>\n",
       "<p>14265 rows × 11 columns</p>\n",
       "</div>"
      ],
      "text/plain": [
       "       Unnamed: 0  fLength   fWidth   fSize   fConc  fConc1    fAsym  fM3Long  \\\n",
       "9168         9168  25.9857  18.4585  2.5231  0.3538  0.1814 -25.4800  -6.2044   \n",
       "8383         8383  37.5265  21.7254  3.0988  0.2087  0.1087  37.1436   8.3872   \n",
       "3980         3980  58.8047  33.6055  3.5673  0.1798  0.0955  45.2378  56.4516   \n",
       "8011         8011  81.8663  22.5846  3.0037  0.2062  0.1076 -98.9128  56.3823   \n",
       "9018         9018  57.4159  17.4763  2.8344  0.2738  0.1428  22.4771  60.2797   \n",
       "...           ...      ...      ...     ...     ...     ...      ...      ...   \n",
       "9225         9225  34.7527  16.3799  2.6212  0.2703  0.1376  21.9455  23.6607   \n",
       "13123       13123  40.7440  16.0635  2.8145  0.3108  0.1668  15.8622  36.5069   \n",
       "9845         9845  35.8286  16.8952  2.8802  0.3070  0.1746  38.7674  17.2509   \n",
       "10799       10799  20.0986  12.8671  2.4057  0.4558  0.2417  11.5039   9.7434   \n",
       "2732         2732  27.2726  12.6129  2.7288  0.3978  0.2512 -10.4679 -17.5545   \n",
       "\n",
       "       fM3Trans   fAlpha     fDist  \n",
       "9168    15.2170  56.1948  190.3300  \n",
       "8383     8.8451   7.3742  141.9140  \n",
       "3980    26.5973   4.6870  134.6540  \n",
       "8011    15.6502   4.4916  242.7150  \n",
       "9018    12.2177  14.6429  202.6650  \n",
       "...         ...      ...       ...  \n",
       "9225     7.2786  16.5306  158.1200  \n",
       "13123   -6.2138  13.3971  284.7751  \n",
       "9845    11.3048   0.4720  234.8680  \n",
       "10799    7.8750  21.6750  212.0980  \n",
       "2732    -9.9008   3.7890  185.4310  \n",
       "\n",
       "[14265 rows x 11 columns]"
      ]
     },
     "execution_count": 18,
     "metadata": {},
     "output_type": "execute_result"
    }
   ],
   "source": [
    "x_train"
   ]
  },
  {
   "cell_type": "code",
   "execution_count": 19,
   "id": "4e7d1f9f",
   "metadata": {
    "scrolled": true
   },
   "outputs": [
    {
     "data": {
      "text/html": [
       "<div>\n",
       "<style scoped>\n",
       "    .dataframe tbody tr th:only-of-type {\n",
       "        vertical-align: middle;\n",
       "    }\n",
       "\n",
       "    .dataframe tbody tr th {\n",
       "        vertical-align: top;\n",
       "    }\n",
       "\n",
       "    .dataframe thead th {\n",
       "        text-align: right;\n",
       "    }\n",
       "</style>\n",
       "<table border=\"1\" class=\"dataframe\">\n",
       "  <thead>\n",
       "    <tr style=\"text-align: right;\">\n",
       "      <th></th>\n",
       "      <th>Unnamed: 0</th>\n",
       "      <th>fLength</th>\n",
       "      <th>fWidth</th>\n",
       "      <th>fSize</th>\n",
       "      <th>fConc</th>\n",
       "      <th>fConc1</th>\n",
       "      <th>fAsym</th>\n",
       "      <th>fM3Long</th>\n",
       "      <th>fM3Trans</th>\n",
       "      <th>fAlpha</th>\n",
       "      <th>fDist</th>\n",
       "    </tr>\n",
       "  </thead>\n",
       "  <tbody>\n",
       "    <tr>\n",
       "      <th>18152</th>\n",
       "      <td>18152</td>\n",
       "      <td>17.1822</td>\n",
       "      <td>15.8933</td>\n",
       "      <td>2.4093</td>\n",
       "      <td>0.6648</td>\n",
       "      <td>0.3864</td>\n",
       "      <td>-16.4698</td>\n",
       "      <td>-3.1572</td>\n",
       "      <td>-3.9904</td>\n",
       "      <td>66.9122</td>\n",
       "      <td>61.0713</td>\n",
       "    </tr>\n",
       "    <tr>\n",
       "      <th>2571</th>\n",
       "      <td>2571</td>\n",
       "      <td>33.7228</td>\n",
       "      <td>18.2951</td>\n",
       "      <td>3.0639</td>\n",
       "      <td>0.2676</td>\n",
       "      <td>0.1394</td>\n",
       "      <td>32.5576</td>\n",
       "      <td>18.3456</td>\n",
       "      <td>-4.4196</td>\n",
       "      <td>11.0782</td>\n",
       "      <td>94.1792</td>\n",
       "    </tr>\n",
       "    <tr>\n",
       "      <th>12202</th>\n",
       "      <td>12202</td>\n",
       "      <td>61.3737</td>\n",
       "      <td>21.3660</td>\n",
       "      <td>3.2621</td>\n",
       "      <td>0.1816</td>\n",
       "      <td>0.1053</td>\n",
       "      <td>-2.9857</td>\n",
       "      <td>31.7738</td>\n",
       "      <td>-12.2608</td>\n",
       "      <td>0.9761</td>\n",
       "      <td>236.9240</td>\n",
       "    </tr>\n",
       "    <tr>\n",
       "      <th>4508</th>\n",
       "      <td>4508</td>\n",
       "      <td>20.0044</td>\n",
       "      <td>11.0652</td>\n",
       "      <td>2.2788</td>\n",
       "      <td>0.6737</td>\n",
       "      <td>0.4500</td>\n",
       "      <td>13.7202</td>\n",
       "      <td>19.7044</td>\n",
       "      <td>-9.9991</td>\n",
       "      <td>59.4730</td>\n",
       "      <td>197.5840</td>\n",
       "    </tr>\n",
       "    <tr>\n",
       "      <th>14903</th>\n",
       "      <td>14903</td>\n",
       "      <td>21.2509</td>\n",
       "      <td>10.8657</td>\n",
       "      <td>2.1847</td>\n",
       "      <td>0.5686</td>\n",
       "      <td>0.2843</td>\n",
       "      <td>14.7015</td>\n",
       "      <td>17.9440</td>\n",
       "      <td>7.8355</td>\n",
       "      <td>7.1820</td>\n",
       "      <td>123.8400</td>\n",
       "    </tr>\n",
       "    <tr>\n",
       "      <th>...</th>\n",
       "      <td>...</td>\n",
       "      <td>...</td>\n",
       "      <td>...</td>\n",
       "      <td>...</td>\n",
       "      <td>...</td>\n",
       "      <td>...</td>\n",
       "      <td>...</td>\n",
       "      <td>...</td>\n",
       "      <td>...</td>\n",
       "      <td>...</td>\n",
       "      <td>...</td>\n",
       "    </tr>\n",
       "    <tr>\n",
       "      <th>4088</th>\n",
       "      <td>4088</td>\n",
       "      <td>39.8586</td>\n",
       "      <td>10.4318</td>\n",
       "      <td>2.5218</td>\n",
       "      <td>0.4271</td>\n",
       "      <td>0.2752</td>\n",
       "      <td>45.8244</td>\n",
       "      <td>28.0080</td>\n",
       "      <td>7.9734</td>\n",
       "      <td>38.9220</td>\n",
       "      <td>81.2325</td>\n",
       "    </tr>\n",
       "    <tr>\n",
       "      <th>5044</th>\n",
       "      <td>5044</td>\n",
       "      <td>29.7456</td>\n",
       "      <td>16.8913</td>\n",
       "      <td>2.9120</td>\n",
       "      <td>0.3650</td>\n",
       "      <td>0.2284</td>\n",
       "      <td>20.9651</td>\n",
       "      <td>22.3978</td>\n",
       "      <td>-7.0530</td>\n",
       "      <td>19.1820</td>\n",
       "      <td>77.9320</td>\n",
       "    </tr>\n",
       "    <tr>\n",
       "      <th>7516</th>\n",
       "      <td>7516</td>\n",
       "      <td>42.8176</td>\n",
       "      <td>17.5801</td>\n",
       "      <td>2.6915</td>\n",
       "      <td>0.3683</td>\n",
       "      <td>0.2004</td>\n",
       "      <td>-41.9100</td>\n",
       "      <td>7.2154</td>\n",
       "      <td>-12.3568</td>\n",
       "      <td>4.9361</td>\n",
       "      <td>125.4900</td>\n",
       "    </tr>\n",
       "    <tr>\n",
       "      <th>7210</th>\n",
       "      <td>7210</td>\n",
       "      <td>18.8943</td>\n",
       "      <td>15.4488</td>\n",
       "      <td>2.3757</td>\n",
       "      <td>0.5600</td>\n",
       "      <td>0.3347</td>\n",
       "      <td>18.0703</td>\n",
       "      <td>19.4668</td>\n",
       "      <td>6.3870</td>\n",
       "      <td>2.7070</td>\n",
       "      <td>214.5640</td>\n",
       "    </tr>\n",
       "    <tr>\n",
       "      <th>9505</th>\n",
       "      <td>9505</td>\n",
       "      <td>72.6665</td>\n",
       "      <td>21.9177</td>\n",
       "      <td>3.4352</td>\n",
       "      <td>0.1795</td>\n",
       "      <td>0.0909</td>\n",
       "      <td>5.3974</td>\n",
       "      <td>75.2689</td>\n",
       "      <td>11.2248</td>\n",
       "      <td>4.8380</td>\n",
       "      <td>251.2160</td>\n",
       "    </tr>\n",
       "  </tbody>\n",
       "</table>\n",
       "<p>4755 rows × 11 columns</p>\n",
       "</div>"
      ],
      "text/plain": [
       "       Unnamed: 0  fLength   fWidth   fSize   fConc  fConc1    fAsym  fM3Long  \\\n",
       "18152       18152  17.1822  15.8933  2.4093  0.6648  0.3864 -16.4698  -3.1572   \n",
       "2571         2571  33.7228  18.2951  3.0639  0.2676  0.1394  32.5576  18.3456   \n",
       "12202       12202  61.3737  21.3660  3.2621  0.1816  0.1053  -2.9857  31.7738   \n",
       "4508         4508  20.0044  11.0652  2.2788  0.6737  0.4500  13.7202  19.7044   \n",
       "14903       14903  21.2509  10.8657  2.1847  0.5686  0.2843  14.7015  17.9440   \n",
       "...           ...      ...      ...     ...     ...     ...      ...      ...   \n",
       "4088         4088  39.8586  10.4318  2.5218  0.4271  0.2752  45.8244  28.0080   \n",
       "5044         5044  29.7456  16.8913  2.9120  0.3650  0.2284  20.9651  22.3978   \n",
       "7516         7516  42.8176  17.5801  2.6915  0.3683  0.2004 -41.9100   7.2154   \n",
       "7210         7210  18.8943  15.4488  2.3757  0.5600  0.3347  18.0703  19.4668   \n",
       "9505         9505  72.6665  21.9177  3.4352  0.1795  0.0909   5.3974  75.2689   \n",
       "\n",
       "       fM3Trans   fAlpha     fDist  \n",
       "18152   -3.9904  66.9122   61.0713  \n",
       "2571    -4.4196  11.0782   94.1792  \n",
       "12202  -12.2608   0.9761  236.9240  \n",
       "4508    -9.9991  59.4730  197.5840  \n",
       "14903    7.8355   7.1820  123.8400  \n",
       "...         ...      ...       ...  \n",
       "4088     7.9734  38.9220   81.2325  \n",
       "5044    -7.0530  19.1820   77.9320  \n",
       "7516   -12.3568   4.9361  125.4900  \n",
       "7210     6.3870   2.7070  214.5640  \n",
       "9505    11.2248   4.8380  251.2160  \n",
       "\n",
       "[4755 rows x 11 columns]"
      ]
     },
     "execution_count": 19,
     "metadata": {},
     "output_type": "execute_result"
    }
   ],
   "source": [
    "x_test"
   ]
  },
  {
   "cell_type": "markdown",
   "id": "bf888fcd",
   "metadata": {},
   "source": [
    "# Build the Model"
   ]
  },
  {
   "cell_type": "markdown",
   "id": "eb719e34",
   "metadata": {},
   "source": [
    "# SVM"
   ]
  },
  {
   "cell_type": "code",
   "execution_count": 21,
   "id": "79a600c3",
   "metadata": {},
   "outputs": [],
   "source": [
    "from sklearn import svm\n",
    "from sklearn.svm import SVC"
   ]
  },
  {
   "cell_type": "code",
   "execution_count": 22,
   "id": "cea45754",
   "metadata": {},
   "outputs": [
    {
     "data": {
      "text/plain": [
       "0.9992989835261129"
      ]
     },
     "execution_count": 22,
     "metadata": {},
     "output_type": "execute_result"
    }
   ],
   "source": [
    "model = svm.SVC().fit(x_train,y_train)\n",
    "model.score(x_train,y_train)"
   ]
  },
  {
   "cell_type": "markdown",
   "id": "38e5c371",
   "metadata": {},
   "source": [
    "Building SVM (kernel='rbf') on train data"
   ]
  },
  {
   "cell_type": "code",
   "execution_count": 23,
   "id": "52758611",
   "metadata": {},
   "outputs": [
    {
     "data": {
      "text/plain": [
       "SVC(gamma=1)"
      ]
     },
     "execution_count": 23,
     "metadata": {},
     "output_type": "execute_result"
    }
   ],
   "source": [
    "svm1 = SVC(kernel='rbf',gamma=1)\n",
    "svm1.fit(x_train,y_train)"
   ]
  },
  {
   "cell_type": "markdown",
   "id": "39921f9c",
   "metadata": {},
   "source": [
    "Prediction"
   ]
  },
  {
   "cell_type": "code",
   "execution_count": 24,
   "id": "918ad2d7",
   "metadata": {},
   "outputs": [
    {
     "data": {
      "text/plain": [
       "array([0, 0, 0, ..., 0, 0, 0])"
      ]
     },
     "execution_count": 24,
     "metadata": {},
     "output_type": "execute_result"
    }
   ],
   "source": [
    "y_pred = svm1.predict(x_test)\n",
    "y_pred"
   ]
  },
  {
   "cell_type": "markdown",
   "id": "61632c18",
   "metadata": {},
   "source": [
    "Model Evaluation"
   ]
  },
  {
   "cell_type": "code",
   "execution_count": 25,
   "id": "fa50506b",
   "metadata": {},
   "outputs": [
    {
     "name": "stdout",
     "output_type": "stream",
     "text": [
      "[[3079    0]\n",
      " [1676    0]]\n"
     ]
    }
   ],
   "source": [
    "from sklearn.metrics import confusion_matrix\n",
    "cm = confusion_matrix(y_test,y_pred)\n",
    "print(cm)"
   ]
  },
  {
   "cell_type": "markdown",
   "id": "2f22995b",
   "metadata": {},
   "source": [
    "Heat Map"
   ]
  },
  {
   "cell_type": "code",
   "execution_count": 32,
   "id": "bad59d4f",
   "metadata": {},
   "outputs": [
    {
     "data": {
      "image/png": "[encoded data removed]",
      "text/plain": [
       "<Figure size 640x480 with 2 Axes>"
      ]
     },
     "metadata": {},
     "output_type": "display_data"
    }
   ],
   "source": [
    "import seaborn as sns\n",
    "import matplotlib.pyplot as plt\n",
    "# Create heatmap\n",
    "sns.heatmap(df, cmap='viridis')\n",
    "\n",
    "# Add labels\n",
    "plt.title('Heatmap Example')\n",
    "plt.xlabel('X Axis')\n",
    "plt.ylabel('Y Axis')\n",
    "\n",
    "# Show plot\n",
    "plt.show()"
   ]
  },
  {
   "cell_type": "markdown",
   "id": "462c9fa8",
   "metadata": {},
   "source": [
    "Classification Report with rbf kernel"
   ]
  },
  {
   "cell_type": "code",
   "execution_count": 34,
   "id": "488c51b0",
   "metadata": {},
   "outputs": [
    {
     "name": "stdout",
     "output_type": "stream",
     "text": [
      "              precision    recall  f1-score   support\n",
      "\n",
      "           0       0.65      1.00      0.79      3079\n",
      "           1       0.00      0.00      0.00      1676\n",
      "\n",
      "    accuracy                           0.65      4755\n",
      "   macro avg       0.32      0.50      0.39      4755\n",
      "weighted avg       0.42      0.65      0.51      4755\n",
      "\n"
     ]
    },
    {
     "name": "stderr",
     "output_type": "stream",
     "text": [
      "C:\\Users\\user\\anaconda3\\lib\\site-packages\\sklearn\\metrics\\_classification.py:1318: UndefinedMetricWarning: Precision and F-score are ill-defined and being set to 0.0 in labels with no predicted samples. Use `zero_division` parameter to control this behavior.\n",
      "  _warn_prf(average, modifier, msg_start, len(result))\n",
      "C:\\Users\\user\\anaconda3\\lib\\site-packages\\sklearn\\metrics\\_classification.py:1318: UndefinedMetricWarning: Precision and F-score are ill-defined and being set to 0.0 in labels with no predicted samples. Use `zero_division` parameter to control this behavior.\n",
      "  _warn_prf(average, modifier, msg_start, len(result))\n",
      "C:\\Users\\user\\anaconda3\\lib\\site-packages\\sklearn\\metrics\\_classification.py:1318: UndefinedMetricWarning: Precision and F-score are ill-defined and being set to 0.0 in labels with no predicted samples. Use `zero_division` parameter to control this behavior.\n",
      "  _warn_prf(average, modifier, msg_start, len(result))\n"
     ]
    }
   ],
   "source": [
    "from sklearn.metrics import classification_report\n",
    "report = classification_report(y_test,y_pred)\n",
    "print(report)"
   ]
  },
  {
   "cell_type": "markdown",
   "id": "d32feeb3",
   "metadata": {},
   "source": [
    "SVM Classifier with polynomial kernel"
   ]
  },
  {
   "cell_type": "code",
   "execution_count": 35,
   "id": "bf810fc9",
   "metadata": {},
   "outputs": [
    {
     "data": {
      "text/plain": [
       "SVC(kernel='poly')"
      ]
     },
     "execution_count": 35,
     "metadata": {},
     "output_type": "execute_result"
    }
   ],
   "source": [
    "svm2 = SVC(kernel='poly',degree=3)\n",
    "svm2.fit(x_train,y_train)"
   ]
  },
  {
   "cell_type": "markdown",
   "id": "facf376a",
   "metadata": {},
   "source": [
    "Prediction"
   ]
  },
  {
   "cell_type": "code",
   "execution_count": 37,
   "id": "572a7f37",
   "metadata": {},
   "outputs": [
    {
     "data": {
      "text/plain": [
       "array([1, 0, 0, ..., 0, 0, 0])"
      ]
     },
     "execution_count": 37,
     "metadata": {},
     "output_type": "execute_result"
    }
   ],
   "source": [
    "y_pred = svm2.predict(x_test)\n",
    "y_pred"
   ]
  },
  {
   "cell_type": "code",
   "execution_count": null,
   "id": "b359df40",
   "metadata": {},
   "outputs": [],
   "source": [
    "Model Evaluation"
   ]
  },
  {
   "cell_type": "code",
   "execution_count": 38,
   "id": "dc086d8e",
   "metadata": {},
   "outputs": [
    {
     "name": "stdout",
     "output_type": "stream",
     "text": [
      "[[3078    1]\n",
      " [   0 1676]]\n"
     ]
    }
   ],
   "source": [
    "cm1 = confusion_matrix(y_test,y_pred)\n",
    "print(cm1)"
   ]
  },
  {
   "cell_type": "markdown",
   "id": "14ee8391",
   "metadata": {},
   "source": [
    "Classification Report with polynomial kernel"
   ]
  },
  {
   "cell_type": "code",
   "execution_count": 39,
   "id": "dc628447",
   "metadata": {},
   "outputs": [
    {
     "name": "stdout",
     "output_type": "stream",
     "text": [
      "              precision    recall  f1-score   support\n",
      "\n",
      "           0       1.00      1.00      1.00      3079\n",
      "           1       1.00      1.00      1.00      1676\n",
      "\n",
      "    accuracy                           1.00      4755\n",
      "   macro avg       1.00      1.00      1.00      4755\n",
      "weighted avg       1.00      1.00      1.00      4755\n",
      "\n"
     ]
    }
   ],
   "source": [
    "report1 = classification_report(y_test,y_pred)\n",
    "print(report1)"
   ]
  },
  {
   "cell_type": "code",
   "execution_count": null,
   "id": "e28dd37c",
   "metadata": {},
   "outputs": [],
   "source": []
  },
  {
   "cell_type": "markdown",
   "id": "43255290",
   "metadata": {},
   "source": [
    "# Naive Bayes Classifier"
   ]
  },
  {
   "cell_type": "code",
   "execution_count": 40,
   "id": "29b7f2c7",
   "metadata": {},
   "outputs": [
    {
     "data": {
      "text/plain": [
       "GaussianNB()"
      ]
     },
     "execution_count": 40,
     "metadata": {},
     "output_type": "execute_result"
    }
   ],
   "source": [
    "from sklearn.naive_bayes import GaussianNB\n",
    "Model = GaussianNB()\n",
    "Model.fit(x_train,y_train)"
   ]
  },
  {
   "cell_type": "code",
   "execution_count": 41,
   "id": "e42a07a7",
   "metadata": {},
   "outputs": [
    {
     "data": {
      "text/plain": [
       "array([1, 0, 0, ..., 0, 0, 0])"
      ]
     },
     "execution_count": 41,
     "metadata": {},
     "output_type": "execute_result"
    }
   ],
   "source": [
    "y_pred = Model.predict(x_test)\n",
    "y_pred"
   ]
  },
  {
   "cell_type": "markdown",
   "id": "b85a6383",
   "metadata": {},
   "source": [
    "Confusion Matrix"
   ]
  },
  {
   "cell_type": "code",
   "execution_count": 42,
   "id": "e90a0558",
   "metadata": {},
   "outputs": [
    {
     "name": "stdout",
     "output_type": "stream",
     "text": [
      "[[3019   60]\n",
      " [ 458 1218]]\n"
     ]
    }
   ],
   "source": [
    "CM = confusion_matrix(y_test,y_pred)\n",
    "print(CM)"
   ]
  },
  {
   "cell_type": "markdown",
   "id": "5d216d18",
   "metadata": {},
   "source": [
    "Classification Report"
   ]
  },
  {
   "cell_type": "code",
   "execution_count": 44,
   "id": "042c443c",
   "metadata": {},
   "outputs": [
    {
     "name": "stdout",
     "output_type": "stream",
     "text": [
      "              precision    recall  f1-score   support\n",
      "\n",
      "           0       0.87      0.98      0.92      3079\n",
      "           1       0.95      0.73      0.82      1676\n",
      "\n",
      "    accuracy                           0.89      4755\n",
      "   macro avg       0.91      0.85      0.87      4755\n",
      "weighted avg       0.90      0.89      0.89      4755\n",
      "\n"
     ]
    }
   ],
   "source": [
    "NBreport = classification_report(y_test,y_pred)\n",
    "print(NBreport)"
   ]
  },
  {
   "cell_type": "markdown",
   "id": "f510370e",
   "metadata": {},
   "source": [
    "# Comparison SVM vs Naive Bayes"
   ]
  },
  {
   "cell_type": "code",
   "execution_count": 47,
   "id": "7fbadc91",
   "metadata": {},
   "outputs": [
    {
     "name": "stdout",
     "output_type": "stream",
     "text": [
      "Accuracy:SVM :  99.93\n"
     ]
    }
   ],
   "source": [
    "Accuracy = model.score(x_train,y_train)\n",
    "\n",
    "print(\"Accuracy:SVM : \",round(Accuracy*100,2))"
   ]
  },
  {
   "cell_type": "code",
   "execution_count": 48,
   "id": "5b92b3c2",
   "metadata": {},
   "outputs": [
    {
     "name": "stdout",
     "output_type": "stream",
     "text": [
      "Accuracy:Naive Bayes :  89.27\n"
     ]
    }
   ],
   "source": [
    "Accuracy = Model.score(x_train,y_train)\n",
    "\n",
    "print(\"Accuracy:Naive Bayes : \",round(Accuracy*100,2))"
   ]
  }
 ],
 "metadata": {
  "kernelspec": {
   "display_name": "Python 3 (ipykernel)",
   "language": "python",
   "name": "python3"
  },
  "language_info": {
   "codemirror_mode": {
    "name": "ipython",
    "version": 3
   },
   "file_extension": ".py",
   "mimetype": "text/x-python",
   "name": "python",
   "nbconvert_exporter": "python",
   "pygments_lexer": "ipython3",
   "version": "3.11.7"
  }
 },
 "nbformat": 4,
 "nbformat_minor": 5
}
